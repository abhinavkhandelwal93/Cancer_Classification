{
  "cells": [
    {
      "cell_type": "code",
      "execution_count": 1,
      "metadata": {
        "id": "cKVtzTCab98P"
      },
      "outputs": [],
      "source": [
        "# !pip install datasets"
      ]
    },
    {
      "cell_type": "code",
      "execution_count": 2,
      "metadata": {
        "id": "01pNFtB8b98Q"
      },
      "outputs": [],
      "source": [
        "# pip install transformers"
      ]
    },
    {
      "cell_type": "code",
      "execution_count": 3,
      "metadata": {
        "id": "dFiUZfA9b98R"
      },
      "outputs": [],
      "source": [
        "# pip install textstat"
      ]
    },
    {
      "cell_type": "code",
      "execution_count": 4,
      "metadata": {
        "id": "TQJt_cQLb98S"
      },
      "outputs": [],
      "source": [
        "# !pip install torch torchvision torchaudio"
      ]
    },
    {
      "cell_type": "code",
      "execution_count": 5,
      "metadata": {
        "id": "J2ldYPDvb98S"
      },
      "outputs": [],
      "source": [
        "# !pip install https://s3-us-west-2.amazonaws.com/ai2-s2-scispacy/releases/v0.5.0/en_ner_bc5cdr_md-0.5.0.tar.gz"
      ]
    },
    {
      "cell_type": "code",
      "execution_count": 6,
      "metadata": {
        "id": "wyqHQd6Vb98T"
      },
      "outputs": [],
      "source": [
        "# !pip install spacy\n",
        "# !pip install scispacy"
      ]
    },
    {
      "cell_type": "code",
      "execution_count": 7,
      "metadata": {
        "id": "0JMSWOWsb98U"
      },
      "outputs": [],
      "source": [
        "# !pip install typing_extensions"
      ]
    },
    {
      "cell_type": "code",
      "execution_count": 8,
      "metadata": {
        "id": "ho5u0UV0eSJA"
      },
      "outputs": [],
      "source": [
        "# !pip install -U transformers datasets evaluate accelerate scikit-learn --quiet"
      ]
    },
    {
      "cell_type": "code",
      "execution_count": 9,
      "metadata": {
        "colab": {
          "base_uri": "https://localhost:8080/"
        },
        "id": "OOqcJKitb98U",
        "outputId": "19474306-66be-415c-be43-d2441f440865"
      },
      "outputs": [
        {
          "output_type": "stream",
          "name": "stdout",
          "text": [
            "📂 Please mount your Google Drive and place 'Cancer' and 'Non-Cancer' folders inside a known path\n",
            "Drive already mounted at /content/drive; to attempt to forcibly remount, call drive.mount(\"/content/drive\", force_remount=True).\n"
          ]
        }
      ],
      "source": [
        "from transformers import AutoTokenizer, AutoModelForSequenceClassification, Trainer, TrainingArguments, EarlyStoppingCallback\n",
        "from datasets import Dataset\n",
        "from sklearn.model_selection import train_test_split\n",
        "from sklearn.metrics import accuracy_score, precision_score, recall_score, f1_score, confusion_matrix\n",
        "import pandas as pd\n",
        "import torch\n",
        "import os\n",
        "import time\n",
        "from google.colab import drive\n",
        "\n",
        "# Mount Google Drive to access folders\n",
        "drive.mount('/content/drive')\n",
        "\n",
        "# Load Text Files from Folders\n",
        "def load_abstracts(folder_path, label):\n",
        "    data = []\n",
        "    for filename in os.listdir(folder_path):\n",
        "        if filename.endswith('.txt'):\n",
        "            file_path = os.path.join(folder_path, filename)\n",
        "            with open(file_path, 'r', encoding='utf-8') as f:\n",
        "                content = f.read().strip()\n",
        "                if content:\n",
        "                    data.append({'abstract_id': filename.replace('.txt', ''),\n",
        "                                 'abstract': content,\n",
        "                                 'label': label})\n",
        "    return data\n",
        "\n",
        "cancer_folder = \"/content/drive/MyDrive/Dataset/Cancer\"\n",
        "non_cancer_folder = \"/content/drive/MyDrive/Dataset/Non-Cancer\"\n",
        "\n",
        "cancer_data = load_abstracts(cancer_folder, label='Cancer')\n",
        "non_cancer_data = load_abstracts(non_cancer_folder, label='Non-Cancer')\n",
        "\n",
        "df = pd.DataFrame(cancer_data + non_cancer_data)\n",
        "df = df.sample(frac=1, random_state=42).reset_index(drop=True)\n",
        "\n"
      ]
    },
    {
      "cell_type": "code",
      "execution_count": 10,
      "metadata": {
        "colab": {
          "base_uri": "https://localhost:8080/",
          "height": 206
        },
        "id": "0f3KPROIpQ3T",
        "outputId": "05ccf5ac-2211-459f-c21b-3e88716ad761"
      },
      "outputs": [
        {
          "output_type": "execute_result",
          "data": {
            "text/plain": [
              "  abstract_id                                           abstract       label\n",
              "0    29775646  <ID:29775646>\\nTitle: The RNA binding protein ...  Non-Cancer\n",
              "1    26022167  <ID:26022167>\\nTitle: Tuberous sclerosis compl...  Non-Cancer\n",
              "2    25600436  <ID:25600436>\\nTitle: Identification of chimer...  Non-Cancer\n",
              "3    38041113  <ID:38041113>\\nTitle: Development of a neutral...  Non-Cancer\n",
              "4    31367627  <ID:31367627>\\nTitle: Multimodality-imaging ma...      Cancer"
            ],
            "text/html": [
              "\n",
              "  <div id=\"df-7be361ea-325d-435d-b5f3-b65c9324bc0a\" class=\"colab-df-container\">\n",
              "    <div>\n",
              "<style scoped>\n",
              "    .dataframe tbody tr th:only-of-type {\n",
              "        vertical-align: middle;\n",
              "    }\n",
              "\n",
              "    .dataframe tbody tr th {\n",
              "        vertical-align: top;\n",
              "    }\n",
              "\n",
              "    .dataframe thead th {\n",
              "        text-align: right;\n",
              "    }\n",
              "</style>\n",
              "<table border=\"1\" class=\"dataframe\">\n",
              "  <thead>\n",
              "    <tr style=\"text-align: right;\">\n",
              "      <th></th>\n",
              "      <th>abstract_id</th>\n",
              "      <th>abstract</th>\n",
              "      <th>label</th>\n",
              "    </tr>\n",
              "  </thead>\n",
              "  <tbody>\n",
              "    <tr>\n",
              "      <th>0</th>\n",
              "      <td>29775646</td>\n",
              "      <td>&lt;ID:29775646&gt;\\nTitle: The RNA binding protein ...</td>\n",
              "      <td>Non-Cancer</td>\n",
              "    </tr>\n",
              "    <tr>\n",
              "      <th>1</th>\n",
              "      <td>26022167</td>\n",
              "      <td>&lt;ID:26022167&gt;\\nTitle: Tuberous sclerosis compl...</td>\n",
              "      <td>Non-Cancer</td>\n",
              "    </tr>\n",
              "    <tr>\n",
              "      <th>2</th>\n",
              "      <td>25600436</td>\n",
              "      <td>&lt;ID:25600436&gt;\\nTitle: Identification of chimer...</td>\n",
              "      <td>Non-Cancer</td>\n",
              "    </tr>\n",
              "    <tr>\n",
              "      <th>3</th>\n",
              "      <td>38041113</td>\n",
              "      <td>&lt;ID:38041113&gt;\\nTitle: Development of a neutral...</td>\n",
              "      <td>Non-Cancer</td>\n",
              "    </tr>\n",
              "    <tr>\n",
              "      <th>4</th>\n",
              "      <td>31367627</td>\n",
              "      <td>&lt;ID:31367627&gt;\\nTitle: Multimodality-imaging ma...</td>\n",
              "      <td>Cancer</td>\n",
              "    </tr>\n",
              "  </tbody>\n",
              "</table>\n",
              "</div>\n",
              "    <div class=\"colab-df-buttons\">\n",
              "\n",
              "  <div class=\"colab-df-container\">\n",
              "    <button class=\"colab-df-convert\" onclick=\"convertToInteractive('df-7be361ea-325d-435d-b5f3-b65c9324bc0a')\"\n",
              "            title=\"Convert this dataframe to an interactive table.\"\n",
              "            style=\"display:none;\">\n",
              "\n",
              "  <svg xmlns=\"http://www.w3.org/2000/svg\" height=\"24px\" viewBox=\"0 -960 960 960\">\n",
              "    <path d=\"M120-120v-720h720v720H120Zm60-500h600v-160H180v160Zm220 220h160v-160H400v160Zm0 220h160v-160H400v160ZM180-400h160v-160H180v160Zm440 0h160v-160H620v160ZM180-180h160v-160H180v160Zm440 0h160v-160H620v160Z\"/>\n",
              "  </svg>\n",
              "    </button>\n",
              "\n",
              "  <style>\n",
              "    .colab-df-container {\n",
              "      display:flex;\n",
              "      gap: 12px;\n",
              "    }\n",
              "\n",
              "    .colab-df-convert {\n",
              "      background-color: #E8F0FE;\n",
              "      border: none;\n",
              "      border-radius: 50%;\n",
              "      cursor: pointer;\n",
              "      display: none;\n",
              "      fill: #1967D2;\n",
              "      height: 32px;\n",
              "      padding: 0 0 0 0;\n",
              "      width: 32px;\n",
              "    }\n",
              "\n",
              "    .colab-df-convert:hover {\n",
              "      background-color: #E2EBFA;\n",
              "      box-shadow: 0px 1px 2px rgba(60, 64, 67, 0.3), 0px 1px 3px 1px rgba(60, 64, 67, 0.15);\n",
              "      fill: #174EA6;\n",
              "    }\n",
              "\n",
              "    .colab-df-buttons div {\n",
              "      margin-bottom: 4px;\n",
              "    }\n",
              "\n",
              "    [theme=dark] .colab-df-convert {\n",
              "      background-color: #3B4455;\n",
              "      fill: #D2E3FC;\n",
              "    }\n",
              "\n",
              "    [theme=dark] .colab-df-convert:hover {\n",
              "      background-color: #434B5C;\n",
              "      box-shadow: 0px 1px 3px 1px rgba(0, 0, 0, 0.15);\n",
              "      filter: drop-shadow(0px 1px 2px rgba(0, 0, 0, 0.3));\n",
              "      fill: #FFFFFF;\n",
              "    }\n",
              "  </style>\n",
              "\n",
              "    <script>\n",
              "      const buttonEl =\n",
              "        document.querySelector('#df-7be361ea-325d-435d-b5f3-b65c9324bc0a button.colab-df-convert');\n",
              "      buttonEl.style.display =\n",
              "        google.colab.kernel.accessAllowed ? 'block' : 'none';\n",
              "\n",
              "      async function convertToInteractive(key) {\n",
              "        const element = document.querySelector('#df-7be361ea-325d-435d-b5f3-b65c9324bc0a');\n",
              "        const dataTable =\n",
              "          await google.colab.kernel.invokeFunction('convertToInteractive',\n",
              "                                                    [key], {});\n",
              "        if (!dataTable) return;\n",
              "\n",
              "        const docLinkHtml = 'Like what you see? Visit the ' +\n",
              "          '<a target=\"_blank\" href=https://colab.research.google.com/notebooks/data_table.ipynb>data table notebook</a>'\n",
              "          + ' to learn more about interactive tables.';\n",
              "        element.innerHTML = '';\n",
              "        dataTable['output_type'] = 'display_data';\n",
              "        await google.colab.output.renderOutput(dataTable, element);\n",
              "        const docLink = document.createElement('div');\n",
              "        docLink.innerHTML = docLinkHtml;\n",
              "        element.appendChild(docLink);\n",
              "      }\n",
              "    </script>\n",
              "  </div>\n",
              "\n",
              "\n",
              "    <div id=\"df-908a2da1-0322-49a1-8f7e-c703645b6b03\">\n",
              "      <button class=\"colab-df-quickchart\" onclick=\"quickchart('df-908a2da1-0322-49a1-8f7e-c703645b6b03')\"\n",
              "                title=\"Suggest charts\"\n",
              "                style=\"display:none;\">\n",
              "\n",
              "<svg xmlns=\"http://www.w3.org/2000/svg\" height=\"24px\"viewBox=\"0 0 24 24\"\n",
              "     width=\"24px\">\n",
              "    <g>\n",
              "        <path d=\"M19 3H5c-1.1 0-2 .9-2 2v14c0 1.1.9 2 2 2h14c1.1 0 2-.9 2-2V5c0-1.1-.9-2-2-2zM9 17H7v-7h2v7zm4 0h-2V7h2v10zm4 0h-2v-4h2v4z\"/>\n",
              "    </g>\n",
              "</svg>\n",
              "      </button>\n",
              "\n",
              "<style>\n",
              "  .colab-df-quickchart {\n",
              "      --bg-color: #E8F0FE;\n",
              "      --fill-color: #1967D2;\n",
              "      --hover-bg-color: #E2EBFA;\n",
              "      --hover-fill-color: #174EA6;\n",
              "      --disabled-fill-color: #AAA;\n",
              "      --disabled-bg-color: #DDD;\n",
              "  }\n",
              "\n",
              "  [theme=dark] .colab-df-quickchart {\n",
              "      --bg-color: #3B4455;\n",
              "      --fill-color: #D2E3FC;\n",
              "      --hover-bg-color: #434B5C;\n",
              "      --hover-fill-color: #FFFFFF;\n",
              "      --disabled-bg-color: #3B4455;\n",
              "      --disabled-fill-color: #666;\n",
              "  }\n",
              "\n",
              "  .colab-df-quickchart {\n",
              "    background-color: var(--bg-color);\n",
              "    border: none;\n",
              "    border-radius: 50%;\n",
              "    cursor: pointer;\n",
              "    display: none;\n",
              "    fill: var(--fill-color);\n",
              "    height: 32px;\n",
              "    padding: 0;\n",
              "    width: 32px;\n",
              "  }\n",
              "\n",
              "  .colab-df-quickchart:hover {\n",
              "    background-color: var(--hover-bg-color);\n",
              "    box-shadow: 0 1px 2px rgba(60, 64, 67, 0.3), 0 1px 3px 1px rgba(60, 64, 67, 0.15);\n",
              "    fill: var(--button-hover-fill-color);\n",
              "  }\n",
              "\n",
              "  .colab-df-quickchart-complete:disabled,\n",
              "  .colab-df-quickchart-complete:disabled:hover {\n",
              "    background-color: var(--disabled-bg-color);\n",
              "    fill: var(--disabled-fill-color);\n",
              "    box-shadow: none;\n",
              "  }\n",
              "\n",
              "  .colab-df-spinner {\n",
              "    border: 2px solid var(--fill-color);\n",
              "    border-color: transparent;\n",
              "    border-bottom-color: var(--fill-color);\n",
              "    animation:\n",
              "      spin 1s steps(1) infinite;\n",
              "  }\n",
              "\n",
              "  @keyframes spin {\n",
              "    0% {\n",
              "      border-color: transparent;\n",
              "      border-bottom-color: var(--fill-color);\n",
              "      border-left-color: var(--fill-color);\n",
              "    }\n",
              "    20% {\n",
              "      border-color: transparent;\n",
              "      border-left-color: var(--fill-color);\n",
              "      border-top-color: var(--fill-color);\n",
              "    }\n",
              "    30% {\n",
              "      border-color: transparent;\n",
              "      border-left-color: var(--fill-color);\n",
              "      border-top-color: var(--fill-color);\n",
              "      border-right-color: var(--fill-color);\n",
              "    }\n",
              "    40% {\n",
              "      border-color: transparent;\n",
              "      border-right-color: var(--fill-color);\n",
              "      border-top-color: var(--fill-color);\n",
              "    }\n",
              "    60% {\n",
              "      border-color: transparent;\n",
              "      border-right-color: var(--fill-color);\n",
              "    }\n",
              "    80% {\n",
              "      border-color: transparent;\n",
              "      border-right-color: var(--fill-color);\n",
              "      border-bottom-color: var(--fill-color);\n",
              "    }\n",
              "    90% {\n",
              "      border-color: transparent;\n",
              "      border-bottom-color: var(--fill-color);\n",
              "    }\n",
              "  }\n",
              "</style>\n",
              "\n",
              "      <script>\n",
              "        async function quickchart(key) {\n",
              "          const quickchartButtonEl =\n",
              "            document.querySelector('#' + key + ' button');\n",
              "          quickchartButtonEl.disabled = true;  // To prevent multiple clicks.\n",
              "          quickchartButtonEl.classList.add('colab-df-spinner');\n",
              "          try {\n",
              "            const charts = await google.colab.kernel.invokeFunction(\n",
              "                'suggestCharts', [key], {});\n",
              "          } catch (error) {\n",
              "            console.error('Error during call to suggestCharts:', error);\n",
              "          }\n",
              "          quickchartButtonEl.classList.remove('colab-df-spinner');\n",
              "          quickchartButtonEl.classList.add('colab-df-quickchart-complete');\n",
              "        }\n",
              "        (() => {\n",
              "          let quickchartButtonEl =\n",
              "            document.querySelector('#df-908a2da1-0322-49a1-8f7e-c703645b6b03 button');\n",
              "          quickchartButtonEl.style.display =\n",
              "            google.colab.kernel.accessAllowed ? 'block' : 'none';\n",
              "        })();\n",
              "      </script>\n",
              "    </div>\n",
              "\n",
              "    </div>\n",
              "  </div>\n"
            ],
            "application/vnd.google.colaboratory.intrinsic+json": {
              "type": "dataframe",
              "variable_name": "df",
              "summary": "{\n  \"name\": \"df\",\n  \"rows\": 1000,\n  \"fields\": [\n    {\n      \"column\": \"abstract_id\",\n      \"properties\": {\n        \"dtype\": \"string\",\n        \"num_unique_values\": 1000,\n        \"samples\": [\n          \"29288088\",\n          \"31062729\",\n          \"37994469\"\n        ],\n        \"semantic_type\": \"\",\n        \"description\": \"\"\n      }\n    },\n    {\n      \"column\": \"abstract\",\n      \"properties\": {\n        \"dtype\": \"string\",\n        \"num_unique_values\": 1000,\n        \"samples\": [\n          \"<ID:29288088>\\nTitle: Telangiectasias in Ataxia Telangiectasia: Clinical significance, role of ATM deficiency and potential pathophysiological mechanisms.\\nAbstract: Ataxia Telangiectasia (AT) is named after the two key clinical features that characterize its classical phenotype, namely a progressive cerebellar gait disorder (ataxia) and vascular anomalies (telangiectasias) visible in the conjunctivae and skin. AT is an autosomal recessively inherited disorder, caused by mutations in the ATM gene that encodes the ATM protein. While the ataxia is subject of many publications, the telangiectasias are under emphasised. We here describe the observation that the absence or presence of ATM protein and the level of residual ATM kinase activity are related to the occurrence of telangiectasias and describe the clinical consequences of these vascular malformations. Finally, we hypothesize that ATM dysfunction dysregulates angiogenesis.\",\n          \"<ID:31062729>\\nTitle: FISH and HER2/neu equivocal immunohistochemistry in breast carcinoma.\\nAbstract: AIM: The aim of this study was to validate the role of fluorescence in situ hybridization (FISH) in investigating HER2/neu gene amplification (human epidermal growth factor receptor 2) in patients with HER2/neu equivocal breast cancer diagnosed on immunohistochemistry (IHC). MATERIALS AND METHODS: This was a retrospective study conducted from January 2013 to October 2017. A total of 134 patients diagnosed with invasive breast carcinoma and HER2/neu equivocal status on IHC were analyzed. Also, the cases for the years 2016 and 2017 formed a subgroup that was analyzed further to study the impact of pre-analytical factors on IHC and FISH results. RESULTS: A total of 134 women with HER2/neu IHC equivocal breast cancer were included in the study with a median age of 50 years (range 25-81). HER2/neu amplification by FISH was noted in 72 (54%) cases, whereas it was non-amplified in 52 (39%) cases. Ten cases were reported as equivocal even on FISH (ASCO/CAP 2013 guidelines). Polysomy 17 was noted in 55 cases (41%), of which 26 patients were<=50 years and 29 patients were >50 years of age. Twenty (36%) of these 55 cases showed HER2/neu amplification, whereas 26 (48%) cases were non-amplified and 9 (16%) cases were reported as equivocal on FISH. Also, more than half of the polysomy cases were hormone receptor negative. CONCLUSION: IHC is a good screening tool for negative and positive results. Any patient targeted for trastuzumab therapy should undergo confirmation of HER2/neu equivocal status by FISH analysis. We also suggest that if a non-classical FISH pattern is seen, the test should be repeated with a non-centromeric chromosome 17 reference locus probe for better treatment planning.\",\n          \"<ID:37994469>\\nTitle: Investigation of <i>BAK</i>, <i>BAX</i> and <i>MAD2L1 g</i>ene expression in human aneuploid blastocysts.\\nAbstract: Maintaining genomic stability is crucial for normal development. At earlier stages of preimplantation development, as the embryonic genome activation is not fully completed, the embryos may be more prone to abnormalities. Aneuploidies are one of the most common genetic causes of implantation failure or first-trimester miscarriages. Apoptosis is a crucial mechanism to eliminate damaged or abnormal cells from the organism to enable healthy growth. Therefore, this study aimed to determine the relationship between the expression levels of genes involved in apoptosis in human aneuploid and euploid blastocysts. In total, 32 human embryos obtained from 21 patients were used for this study. Trophectoderm biopsies were performed and next-generation screening was carried out for aneuploidy screening. Total RNA was extracted from each blastocyst separately and cDNA was synthesized. Gene expression levels were evaluated using RT-PCR. The statistical analysis was performed to evaluate the gene expression level variations in the euploid and aneuploid embryos, respectively. The expression level of the <i>BAX</i> gene was significantly different between the aneuploid and euploid samples. BAX expression levels were found to be 1.5-fold lower in aneuploid cells. However, the expression levels of <i>BAK</i> and <i>MAD2L1</i> genes were similar in each group. This study aimed to investigate the possible role of genes involved in apoptosis and aneuploidy mechanisms. The findings of this investigation revealed that the <i>BAX</i> gene was expressed significantly differently between aneuploid and euploid embryos. Therefore, it is possible that the genes involved in the apoptotic pathway have a role in the aneuploidy mechanism.\"\n        ],\n        \"semantic_type\": \"\",\n        \"description\": \"\"\n      }\n    },\n    {\n      \"column\": \"label\",\n      \"properties\": {\n        \"dtype\": \"category\",\n        \"num_unique_values\": 2,\n        \"samples\": [\n          \"Cancer\",\n          \"Non-Cancer\"\n        ],\n        \"semantic_type\": \"\",\n        \"description\": \"\"\n      }\n    }\n  ]\n}"
            }
          },
          "metadata": {},
          "execution_count": 10
        }
      ],
      "source": [
        "df.head()"
      ]
    },
    {
      "cell_type": "code",
      "execution_count": 11,
      "metadata": {
        "colab": {
          "base_uri": "https://localhost:8080/"
        },
        "id": "6W8_R1ctb98V",
        "outputId": "f2d8b856-afb5-407e-f8d4-c80b719c3e3f"
      },
      "outputs": [
        {
          "output_type": "stream",
          "name": "stdout",
          "text": [
            "is_cancer_mentioned  False  True \n",
            "label                            \n",
            "Cancer                 180    320\n",
            "Non-Cancer             491      9\n"
          ]
        }
      ],
      "source": [
        "# Check for Relevance (Cancer vs Non-Cancer)\n",
        "df['is_cancer_mentioned'] = df['abstract'].str.contains(r'cancer', case=False)\n",
        "relevance_check = pd.crosstab(df['label'], df['is_cancer_mentioned'])\n",
        "print(relevance_check)"
      ]
    },
    {
      "cell_type": "code",
      "execution_count": 12,
      "metadata": {
        "colab": {
          "base_uri": "https://localhost:8080/"
        },
        "id": "WBnX_4K6b98W",
        "outputId": "94074471-5d30-4bd0-b1e4-403316b2f0b5"
      },
      "outputs": [
        {
          "output_type": "stream",
          "name": "stdout",
          "text": [
            "is_cancer_alike_words_mentioned  False  True \n",
            "label                                        \n",
            "Cancer                             156    344\n",
            "Non-Cancer                         485     15\n"
          ]
        }
      ],
      "source": [
        "# Check for Relevance (Cancer vs Non-Cancer)\n",
        "df['is_cancer_alike_words_mentioned'] = df['abstract'].str.contains(r'tumor|carcinoma|neoplasm|oncology', case=False)\n",
        "relevance_check = pd.crosstab(df['label'], df['is_cancer_alike_words_mentioned'])\n",
        "print(relevance_check)"
      ]
    },
    {
      "cell_type": "code",
      "execution_count": 13,
      "metadata": {
        "colab": {
          "base_uri": "https://localhost:8080/"
        },
        "id": "27c6YnYpb98W",
        "outputId": "0a4aab8a-d2cb-4f2a-fb94-3884f99558f9"
      },
      "outputs": [
        {
          "output_type": "stream",
          "name": "stdout",
          "text": [
            "is_cancer_alike_words_mentioned  False  True \n",
            "label                                        \n",
            "Cancer                             156    344\n",
            "Non-Cancer                         485     15\n"
          ]
        }
      ],
      "source": [
        "# Check for Relevance (Cancer vs Non-Cancer)\n",
        "df['is_cancer_alike_words_mentioned'] = df['abstract'].str.contains(r'tumor|carcinoma|neoplasm|oncology', case=False)\n",
        "relevance_check = pd.crosstab(df['label'], df['is_cancer_alike_words_mentioned'])\n",
        "print(relevance_check)\n"
      ]
    },
    {
      "cell_type": "code",
      "execution_count": 14,
      "metadata": {
        "colab": {
          "base_uri": "https://localhost:8080/"
        },
        "id": "EOp3h3Hfb98X",
        "outputId": "631edd08-ad92-4666-b4a1-34f6675bdec5"
      },
      "outputs": [
        {
          "output_type": "stream",
          "name": "stdout",
          "text": [
            "is_cancer_relevant_mentioned  False  True \n",
            "label                                     \n",
            "Cancer                           56    444\n",
            "Non-Cancer                      477     23\n"
          ]
        }
      ],
      "source": [
        "# Check for Relevance (Cancer vs Non-Cancer)\n",
        "df['is_cancer_relevant_mentioned'] = df['abstract'].str.contains(r'cancer|tumor|carcinoma|neoplasm|oncology', case=False)\n",
        "relevance_check = pd.crosstab(df['label'], df['is_cancer_relevant_mentioned'])\n",
        "print(relevance_check)\n"
      ]
    },
    {
      "cell_type": "code",
      "execution_count": 15,
      "metadata": {
        "colab": {
          "base_uri": "https://localhost:8080/"
        },
        "id": "eADu463Mb98X",
        "outputId": "096b6222-d01f-41c6-b790-c749108b3ff6"
      },
      "outputs": [
        {
          "output_type": "stream",
          "name": "stdout",
          "text": [
            "       citation_count  citation_density\n",
            "count          1000.0            1000.0\n",
            "mean              0.0               0.0\n",
            "std               0.0               0.0\n",
            "min               0.0               0.0\n",
            "25%               0.0               0.0\n",
            "50%               0.0               0.0\n",
            "75%               0.0               0.0\n",
            "max               0.0               0.0\n"
          ]
        }
      ],
      "source": [
        "# Check the number and consistency of in-text citations\n",
        "\n",
        "df['citation_count'] = df['abstract'].str.count(r'\\[\\d+\\]|\\(\\w+ et al\\., \\d{4}\\)')\n",
        "df['citation_density'] = df['citation_count'] / df['abstract'].str.split().str.len()\n",
        "print(df[['citation_count', 'citation_density']].describe())\n"
      ]
    },
    {
      "cell_type": "code",
      "execution_count": 16,
      "metadata": {
        "colab": {
          "base_uri": "https://localhost:8080/"
        },
        "id": "i9JACA6Sb98Y",
        "outputId": "e910628b-01c8-4f05-97ee-d1bc51b34d69"
      },
      "outputs": [
        {
          "output_type": "stream",
          "name": "stdout",
          "text": [
            "has_id_mentioned    1.0\n",
            "dtype: float64\n"
          ]
        }
      ],
      "source": [
        "df['has_id_mentioned'] = df['abstract'].str.contains(r'^<ID:\\d+>\\n', case=False)\n",
        "print(df[['has_id_mentioned']].mean())"
      ]
    },
    {
      "cell_type": "code",
      "execution_count": 17,
      "metadata": {
        "colab": {
          "base_uri": "https://localhost:8080/",
          "height": 123
        },
        "id": "US31O8emb98Y",
        "outputId": "7df0def7-0c5e-462c-f1af-8d6a7fd9d700"
      },
      "outputs": [
        {
          "output_type": "execute_result",
          "data": {
            "text/plain": [
              "'<ID:38041113>\\nTitle: Development of a neutralization monoclonal antibody with a broad neutralizing effect against SARS-CoV-2 variants.\\nAbstract: The emergence of severe acute respiratory syndrome coronavirus 2 (SARS-CoV-2) variants has challenged the effectiveness of current therapeutic regimens. Here, we aimed to develop a potent SARS-CoV-2 antibody with broad neutralizing effect by screening a scFv library with the spike protein receptor-binding domain (RBD) via phage display.\\nSKAI-DS84 was identified through phage display, and we performed pseudovirus neutralization assays, authentic virus neutralization assays, and in vivo neutralization efficacy evaluations. Furthermore, surface plasmon resonance (SPR) analysis was conducted to assess the physical characteristics of the antibody, including binding kinetics and measure its affinity for variant RBDs.\\nThe selected clones were converted to human IgG, and among them, SKAI-DS84 was selected for further analyses based on its binding affinity with the variant RBDs. Using pseudoviruses, we confirmed that SKAI-DS84 was strongly neutralizing against wild-type, B.1.617.2, B.1.1.529, and subvariants of SARS-CoV-2. We also tested the neutralizing effect of SKAI-DS84 on authentic viruses, in vivo and observed a reduction in viral replication and improved lung pathology. We performed binding and epitope mapping experiments to understand the mechanisms underlying neutralization and identified quaternary epitopes formed by the interaction between RBDs as the target of SKAI-DS84.\\nWe identified, produced, and tested the neutralizing effect of SKAI-DS84 antibody. Our results highlight that SKAI-DS84 could be a potential neutralizing antibody against SARS-CoV-2 and its variants.'"
            ],
            "application/vnd.google.colaboratory.intrinsic+json": {
              "type": "string"
            }
          },
          "metadata": {},
          "execution_count": 17
        }
      ],
      "source": [
        "# remove rows with null abstract and clean citation mentions\n",
        "df = df.dropna(subset=[\"abstract\"])\n",
        "df[\"abstract\"] = df[\"abstract\"].str.replace(r\"\\[[^\\]]*\\]\", \"\", regex=True)  # remove citations like [1], [2]\n",
        "df['abstract'].iloc[3]\n"
      ]
    },
    {
      "cell_type": "code",
      "execution_count": 18,
      "metadata": {
        "colab": {
          "base_uri": "https://localhost:8080/",
          "height": 123
        },
        "id": "yPvGwxy-b98Z",
        "outputId": "518812fb-1137-4bb9-8bf8-7edf4b27a587"
      },
      "outputs": [
        {
          "output_type": "execute_result",
          "data": {
            "text/plain": [
              "'Title: Multimodality-imaging manifestations of primary renal-allograft synovial sarcoma: First case report and literature review.\\nAbstract: BACKGROUND: Primary renal synovial sarcoma (PRSS) is an extremely rare tumor with a poor prognosis. Its imaging and immunohistochemical characteristics may overlap with other renal tumors, which renders its early diagnosis in a dilemma. The diagnosis of primary renal synovial sarcoma requires histopathology and the confirmation of SYT-SSX gene fusion using molecular techniques. Cases of primary renal synovial sarcoma have been previously reported in the literature. However, to our knowledge, primary renal allograft synovial sarcoma was never described. CASE SUMMARY: A 43-year-old male patient who underwent kidney transplantation 9 months ago came to our hospital for regular follow-up. Traditional ultrasonography revealed multiple hypo-echo neoplasms in the renal allograft. Contrast-enhanced computed tomography (CECT) showed slightly hyper-density masses with slow homogeneous enhancement. Ultrasound-guided biopsy was conducted for accurate pathological diagnosis. The neoplasms were diagnosed as synovial sarcoma by pathological, immunohistochemical, and genetic analyses. Positron emission tomography/CT showed no evidence of metastasis. At approximately one week post biopsy, contrast-enhanced ultrasound was conducted to eliminate active hemorrhage. One month later, CECT showed that the biggest neoplasm grew from 3.3 cm to 5.7 cm in diameter. Parametric imaging was conducted with SonoLiver CAP to conduct further quantitative analysis, which showed that the enhancement pattern was heterogeneous hyper-vascular enhancement. Radical surgical resection of the whole renal allograft and ureter was conducted without additional adjuvant chemotherapy or external radiotherapy. Anlotinib was chosen for targeted therapy with a good response. CONCLUSION: We propose multimodality imaging for accurate diagnosis of renal allograft synovial sarcoma especially when it is formed by spindle-shaped cells.'"
            ],
            "application/vnd.google.colaboratory.intrinsic+json": {
              "type": "string"
            }
          },
          "metadata": {},
          "execution_count": 18
        }
      ],
      "source": [
        "df['abstract'] = df['abstract'].str.replace(r'^<ID:\\d+>\\n', '', regex=True)\n",
        "df['abstract'].iloc[4]"
      ]
    },
    {
      "cell_type": "code",
      "execution_count": 19,
      "metadata": {
        "id": "f9TSYJqSb98Z"
      },
      "outputs": [],
      "source": [
        "df['abstract'] = df['abstract'].str.strip() # remove whitespace from start and end\n",
        "df['abstract'] = df['abstract'].str.replace('\\n', ' ', regex=False) # remove the linechange code\n",
        "df['abstract'] = df['abstract'].str.replace(r'\\s+', ' ', regex=True) #remove multiple whitespace between the sentence"
      ]
    },
    {
      "cell_type": "code",
      "execution_count": 20,
      "metadata": {
        "id": "QryNURZib98Z"
      },
      "outputs": [],
      "source": [
        "# Remove \"Title:\" and \"Abstract:\" tags (case-insensitive)\n",
        "df['abstract'] = df['abstract'].str.replace(r'\\bTitle:\\s*', '', regex=True)\n",
        "df['abstract'] = df['abstract'].str.replace(r'\\bAbstract:\\s*', '', regex=True)"
      ]
    },
    {
      "cell_type": "code",
      "execution_count": 21,
      "metadata": {
        "colab": {
          "base_uri": "https://localhost:8080/"
        },
        "id": "T1j0OX0Xb98a",
        "outputId": "b44e4ee2-8334-482a-8d73-11ba9dbcbda5"
      },
      "outputs": [
        {
          "output_type": "stream",
          "name": "stdout",
          "text": [
            "has_title      0.0\n",
            "has_methods    0.0\n",
            "has_results    0.0\n",
            "dtype: float64\n"
          ]
        }
      ],
      "source": [
        "# check the abstract quality\n",
        "df['has_title'] = df['abstract'].str.contains(r'^Title:', case=False)\n",
        "df['has_methods'] = df['abstract'].str.contains(r'\\bMethods?:\\b', case=False)\n",
        "df['has_results'] = df['abstract'].str.contains(r'\\bResults?:\\b', case=False)\n",
        "\n",
        "print(df[['has_title', 'has_methods', 'has_results']].mean())\n",
        "\n",
        "#Insight:\n",
        "# Helps understand how well-formatted your abstracts are.\n",
        "# Structured abstracts improve NER, topic tagging, and summarization tasks."
      ]
    },
    {
      "cell_type": "markdown",
      "source": [
        "Find the diseases mentioned in each abstract"
      ],
      "metadata": {
        "id": "b5Rp2wly2cCh"
      }
    },
    {
      "cell_type": "code",
      "execution_count": 22,
      "metadata": {
        "id": "iRs6rBdab98a"
      },
      "outputs": [],
      "source": [
        "# import spacy\n",
        "# import scispacy\n",
        "# print(\"spaCy version:\", spacy.__version__)\n",
        "# print(\"scispaCy version:\", scispacy.__version__)\n",
        "# # only disease extraction\n",
        "# import spacy\n",
        "\n",
        "# # Load disease-specific NER model\n",
        "# nlp = spacy.load(\"en_ner_bc5cdr_md\")  # includes labels like DISEASE and CHEMICAL\n",
        "# # Extract only diseases\n",
        "# df['diseases'] = df['abstract'].apply(\n",
        "#     lambda x: [ent.text for ent in nlp(x).ents if ent.label_ == \"DISEASE\"]\n",
        "# )\n",
        "\n",
        "# disease_mentioned_in_abstract_dict = dict(zip(df['abstract_id'], df['diseases']))"
      ]
    },
    {
      "cell_type": "code",
      "execution_count": 23,
      "metadata": {
        "id": "8MgJuYG9b98a"
      },
      "outputs": [],
      "source": [
        "# !pip install --upgrade typing_extensions"
      ]
    },
    {
      "cell_type": "code",
      "execution_count": 24,
      "metadata": {
        "colab": {
          "base_uri": "https://localhost:8080/"
        },
        "id": "1g36IAjhb98b",
        "outputId": "978d9d9f-967a-45b9-ac07-f005f6fd8f62"
      },
      "outputs": [
        {
          "output_type": "stream",
          "name": "stderr",
          "text": [
            "/usr/local/lib/python3.11/dist-packages/huggingface_hub/utils/_auth.py:94: UserWarning: \n",
            "The secret `HF_TOKEN` does not exist in your Colab secrets.\n",
            "To authenticate with the Hugging Face Hub, create a token in your settings tab (https://huggingface.co/settings/tokens), set it as secret in your Google Colab and restart your session.\n",
            "You will be able to reuse this secret in all of your notebooks.\n",
            "Please note that authentication is recommended but still optional to access public models or datasets.\n",
            "  warnings.warn(\n"
          ]
        }
      ],
      "source": [
        "from transformers import AutoTokenizer\n",
        "import torch\n",
        "from sklearn.model_selection import train_test_split\n",
        "\n",
        "tokenizer = AutoTokenizer.from_pretrained(\"microsoft/BiomedNLP-PubMedBERT-base-uncased-abstract\")"
      ]
    },
    {
      "cell_type": "code",
      "execution_count": 25,
      "metadata": {
        "id": "jc6Fbyjgb98b"
      },
      "outputs": [],
      "source": [
        "df=df[['abstract_id', 'abstract', 'label']]"
      ]
    },
    {
      "cell_type": "code",
      "execution_count": 26,
      "metadata": {
        "colab": {
          "base_uri": "https://localhost:8080/",
          "height": 458
        },
        "id": "0byLliN3b98b",
        "outputId": "4464d0b5-7508-4909-b96e-95f9b59004a6"
      },
      "outputs": [
        {
          "output_type": "execute_result",
          "data": {
            "text/plain": [
              "0      Non-Cancer\n",
              "1      Non-Cancer\n",
              "2      Non-Cancer\n",
              "3      Non-Cancer\n",
              "4          Cancer\n",
              "          ...    \n",
              "995        Cancer\n",
              "996        Cancer\n",
              "997    Non-Cancer\n",
              "998        Cancer\n",
              "999        Cancer\n",
              "Name: label, Length: 1000, dtype: object"
            ],
            "text/html": [
              "<div>\n",
              "<style scoped>\n",
              "    .dataframe tbody tr th:only-of-type {\n",
              "        vertical-align: middle;\n",
              "    }\n",
              "\n",
              "    .dataframe tbody tr th {\n",
              "        vertical-align: top;\n",
              "    }\n",
              "\n",
              "    .dataframe thead th {\n",
              "        text-align: right;\n",
              "    }\n",
              "</style>\n",
              "<table border=\"1\" class=\"dataframe\">\n",
              "  <thead>\n",
              "    <tr style=\"text-align: right;\">\n",
              "      <th></th>\n",
              "      <th>label</th>\n",
              "    </tr>\n",
              "  </thead>\n",
              "  <tbody>\n",
              "    <tr>\n",
              "      <th>0</th>\n",
              "      <td>Non-Cancer</td>\n",
              "    </tr>\n",
              "    <tr>\n",
              "      <th>1</th>\n",
              "      <td>Non-Cancer</td>\n",
              "    </tr>\n",
              "    <tr>\n",
              "      <th>2</th>\n",
              "      <td>Non-Cancer</td>\n",
              "    </tr>\n",
              "    <tr>\n",
              "      <th>3</th>\n",
              "      <td>Non-Cancer</td>\n",
              "    </tr>\n",
              "    <tr>\n",
              "      <th>4</th>\n",
              "      <td>Cancer</td>\n",
              "    </tr>\n",
              "    <tr>\n",
              "      <th>...</th>\n",
              "      <td>...</td>\n",
              "    </tr>\n",
              "    <tr>\n",
              "      <th>995</th>\n",
              "      <td>Cancer</td>\n",
              "    </tr>\n",
              "    <tr>\n",
              "      <th>996</th>\n",
              "      <td>Cancer</td>\n",
              "    </tr>\n",
              "    <tr>\n",
              "      <th>997</th>\n",
              "      <td>Non-Cancer</td>\n",
              "    </tr>\n",
              "    <tr>\n",
              "      <th>998</th>\n",
              "      <td>Cancer</td>\n",
              "    </tr>\n",
              "    <tr>\n",
              "      <th>999</th>\n",
              "      <td>Cancer</td>\n",
              "    </tr>\n",
              "  </tbody>\n",
              "</table>\n",
              "<p>1000 rows × 1 columns</p>\n",
              "</div><br><label><b>dtype:</b> object</label>"
            ]
          },
          "metadata": {},
          "execution_count": 26
        }
      ],
      "source": [
        "df['label']"
      ]
    },
    {
      "cell_type": "code",
      "execution_count": 27,
      "metadata": {
        "id": "EhVp0g9Rb98c",
        "colab": {
          "base_uri": "https://localhost:8080/"
        },
        "outputId": "3ca91d7a-8c29-4b4c-da17-dd70038748a1"
      },
      "outputs": [
        {
          "output_type": "stream",
          "name": "stderr",
          "text": [
            "<ipython-input-27-7087121bb72d>:7: SettingWithCopyWarning: \n",
            "A value is trying to be set on a copy of a slice from a DataFrame.\n",
            "Try using .loc[row_indexer,col_indexer] = value instead\n",
            "\n",
            "See the caveats in the documentation: https://pandas.pydata.org/pandas-docs/stable/user_guide/indexing.html#returning-a-view-versus-a-copy\n",
            "  df['label'] = df['label'].map({'Non-Cancer': 0, 'Cancer': 1})\n"
          ]
        }
      ],
      "source": [
        "from transformers import AutoTokenizer, AutoModelForSequenceClassification\n",
        "from datasets import Dataset\n",
        "from sklearn.model_selection import train_test_split\n",
        "import torch\n",
        "\n",
        "# Step 1: Encode labels\n",
        "df['label'] = df['label'].map({'Non-Cancer': 0, 'Cancer': 1})\n",
        "\n",
        "# Step 2: Train-validation split\n",
        "df_train, df_val = train_test_split(df, test_size=0.2, stratify=df['label'], random_state=42)\n",
        "\n",
        "# Step 3: Initialize tokenizer\n",
        "tokenizer = AutoTokenizer.from_pretrained(\"microsoft/BiomedNLP-PubMedBERT-base-uncased-abstract\")\n",
        "\n",
        "# Step 4: Tokenize function\n",
        "def tokenize_function(examples):\n",
        "    return tokenizer(\n",
        "        examples[\"abstract\"],\n",
        "        padding=\"max_length\",\n",
        "        truncation=True,\n",
        "        max_length=512\n",
        "    )"
      ]
    },
    {
      "cell_type": "code",
      "execution_count": 28,
      "metadata": {
        "colab": {
          "base_uri": "https://localhost:8080/",
          "height": 81,
          "referenced_widgets": [
            "55ac869a88a04e07af17dc4fd7ae8fa0",
            "680c37048c124950a0b8dfec2b905966",
            "fc1465ab105b4e96834e36f03d8ac6ac",
            "e726641c216542b3af172375029919bc",
            "00a7aa0b5b1c4b99bb90f32315d482b9",
            "de25a96c2226411986daa242acb3020b",
            "f786334af90845ba93e365f90883a100",
            "420d6333f040471c822df91f2e905df5",
            "fd9c0f479c3a4ff3bf448b515179df73",
            "e3ca8318f275445abe3ab652442113c3",
            "2f0dbe1a3d5945f5b8115e39c5e5b184",
            "d474f53fb0074409b2df5a06ed4dbaa2",
            "02b42cf7a7b24d1a9f7f7c4a9cbc7844",
            "18c13a347f68483b93f60bbdc55e073b",
            "e18a48ab4966468998bd359447e06ac8",
            "62fb4db8e930433b93ff20d99950defb",
            "7411e978991741adaf9125e3f94973b9",
            "6c30b3c458c740ea8415797f89776deb",
            "38f4492e087d481caa706d76a8c732ed",
            "c039aa9f11e64195ae83ecffa4f0cb0a",
            "5da00198b1444b7fb266ff57285c6342",
            "85528abae98345079fe702e65bec64b4"
          ]
        },
        "id": "Wg7fmXnEb98c",
        "outputId": "c17c3e0b-8a7f-4cd5-97ba-4bd7dc8ac137"
      },
      "outputs": [
        {
          "output_type": "display_data",
          "data": {
            "text/plain": [
              "Map:   0%|          | 0/800 [00:00<?, ? examples/s]"
            ],
            "application/vnd.jupyter.widget-view+json": {
              "version_major": 2,
              "version_minor": 0,
              "model_id": "55ac869a88a04e07af17dc4fd7ae8fa0"
            }
          },
          "metadata": {}
        },
        {
          "output_type": "display_data",
          "data": {
            "text/plain": [
              "Map:   0%|          | 0/200 [00:00<?, ? examples/s]"
            ],
            "application/vnd.jupyter.widget-view+json": {
              "version_major": 2,
              "version_minor": 0,
              "model_id": "d474f53fb0074409b2df5a06ed4dbaa2"
            }
          },
          "metadata": {}
        }
      ],
      "source": [
        "# Step 5: Convert DataFrames to Hugging Face Dataset\n",
        "hf_train = Dataset.from_pandas(df_train.reset_index(drop=True))\n",
        "hf_val = Dataset.from_pandas(df_val.reset_index(drop=True))\n",
        "\n",
        "# Step 6: Tokenize the datasets\n",
        "hf_train = hf_train.map(tokenize_function, batched=True)\n",
        "hf_val = hf_val.map(tokenize_function, batched=True)\n",
        "\n",
        "# Step 7: Set format for PyTorch\n",
        "hf_train.set_format(type='torch', columns=['input_ids', 'attention_mask', 'label'])\n",
        "hf_val.set_format(type='torch', columns=['input_ids', 'attention_mask', 'label'])\n"
      ]
    },
    {
      "cell_type": "code",
      "execution_count": 29,
      "metadata": {
        "id": "o96rWYupb98c"
      },
      "outputs": [],
      "source": [
        "# # Step 8: Load model\n",
        "# model = AutoModelForSequenceClassification.from_pretrained(\n",
        "#     \"microsoft/BiomedNLP-PubMedBERT-base-uncased-abstract\",\n",
        "#     num_labels=2\n",
        "# )\n"
      ]
    },
    {
      "cell_type": "code",
      "execution_count": 30,
      "metadata": {
        "colab": {
          "base_uri": "https://localhost:8080/"
        },
        "id": "KN2VUukTb98d",
        "outputId": "1ec1e901-033e-44a7-83e4-d94cbcfffd57"
      },
      "outputs": [
        {
          "output_type": "stream",
          "name": "stderr",
          "text": [
            "Some weights of BertForSequenceClassification were not initialized from the model checkpoint at microsoft/BiomedNLP-PubMedBERT-base-uncased-abstract and are newly initialized: ['classifier.bias', 'classifier.weight']\n",
            "You should probably TRAIN this model on a down-stream task to be able to use it for predictions and inference.\n"
          ]
        },
        {
          "output_type": "stream",
          "name": "stdout",
          "text": [
            "trainable params: 989,186 || all params: 110,370,052 || trainable%: 0.8962\n",
            "None\n"
          ]
        }
      ],
      "source": [
        "# model with LoRa\n",
        "from peft import get_peft_model, LoraConfig, TaskType\n",
        "from transformers import AutoModelForSequenceClassification\n",
        "\n",
        "base_model = AutoModelForSequenceClassification.from_pretrained(\"microsoft/BiomedNLP-PubMedBERT-base-uncased-abstract\", num_labels=2)\n",
        "\n",
        "lora_config = LoraConfig(\n",
        "    r=16,\n",
        "    lora_alpha=32,\n",
        "    target_modules=[\"query\", \"key\", \"value\"],\n",
        "    lora_dropout=0.05,\n",
        "    bias=\"all\",  # ← critical: allows classifier to train\n",
        "    task_type=TaskType.SEQ_CLS\n",
        ")\n",
        "\n",
        "model = get_peft_model(base_model, lora_config)\n",
        "print(model.print_trainable_parameters())\n",
        "\n"
      ]
    },
    {
      "cell_type": "code",
      "execution_count": 31,
      "metadata": {
        "id": "TodK4fJWb98d"
      },
      "outputs": [],
      "source": [
        "from transformers import TrainingArguments\n",
        "training_args = TrainingArguments(\n",
        "    output_dir=\"/content/drive/MyDrive/dataset_4\",\n",
        "    eval_strategy=\"epoch\",\n",
        "    run_name=\"pubmedbert_cancer_classifier\",\n",
        "    save_strategy=\"epoch\",\n",
        "    load_best_model_at_end=True,\n",
        "    metric_for_best_model=\"f1\",\n",
        "    greater_is_better=True,\n",
        "    per_device_train_batch_size=8,\n",
        "    per_device_eval_batch_size=8,\n",
        "    num_train_epochs=2,\n",
        "    weight_decay=0.01,\n",
        "    report_to=\"none\",\n",
        "    logging_strategy=\"steps\",\n",
        "    logging_steps=50\n",
        ")"
      ]
    },
    {
      "cell_type": "code",
      "execution_count": 32,
      "metadata": {
        "id": "2iainT2nb98d"
      },
      "outputs": [],
      "source": [
        "from sklearn.metrics import accuracy_score, f1_score, precision_score, recall_score, confusion_matrix\n",
        "\n",
        "def compute_metrics(pred):\n",
        "    labels = pred.label_ids\n",
        "    preds = pred.predictions.argmax(-1)\n",
        "\n",
        "    acc = accuracy_score(labels, preds)\n",
        "    f1 = f1_score(labels, preds)\n",
        "    precision = precision_score(labels, preds)\n",
        "    recall = recall_score(labels, preds)\n",
        "\n",
        "    # Confusion matrix as counts (TP, FP, FN, TN)\n",
        "    cm = confusion_matrix(labels, preds)\n",
        "    cm_dict = {\n",
        "        \"true_negative\": int(cm[0][0]),\n",
        "        \"false_positive\": int(cm[0][1]),\n",
        "        \"false_negative\": int(cm[1][0]),\n",
        "        \"true_positive\": int(cm[1][1])\n",
        "    }\n",
        "\n",
        "    return {\n",
        "        \"accuracy\": acc,\n",
        "        \"f1\": f1,\n",
        "        \"precision\": precision,\n",
        "        \"recall\": recall,\n",
        "        **cm_dict\n",
        "    }\n"
      ]
    },
    {
      "cell_type": "code",
      "source": [
        "# Step 1: Install Required Libraries\n",
        "# !pip install -U transformers datasets evaluate accelerate scikit-learn numpy<2 --quiet"
      ],
      "metadata": {
        "id": "jdDfmdzb5jEG"
      },
      "execution_count": 33,
      "outputs": []
    },
    {
      "cell_type": "code",
      "source": [
        "# !pip install -U datasets --quiet"
      ],
      "metadata": {
        "id": "Ku_DL8hp5pP-"
      },
      "execution_count": 34,
      "outputs": []
    },
    {
      "cell_type": "code",
      "execution_count": null,
      "metadata": {
        "colab": {
          "base_uri": "https://localhost:8080/",
          "height": 147
        },
        "id": "JB_utEH3b98e",
        "outputId": "f7ecfdbf-4d0c-4f57-ca71-683fd306b178"
      },
      "outputs": [
        {
          "output_type": "stream",
          "name": "stderr",
          "text": [
            "<ipython-input-35-b566bdf8b750>:3: FutureWarning: `tokenizer` is deprecated and will be removed in version 5.0.0 for `Trainer.__init__`. Use `processing_class` instead.\n",
            "  trainer = Trainer(\n",
            "No label_names provided for model class `PeftModelForSequenceClassification`. Since `PeftModel` hides base models input arguments, if label_names is not given, label_names can't be set automatically within `Trainer`. Note that empty label_names list will be used instead.\n"
          ]
        },
        {
          "output_type": "display_data",
          "data": {
            "text/plain": [
              "<IPython.core.display.HTML object>"
            ],
            "text/html": [
              "\n",
              "    <div>\n",
              "      \n",
              "      <progress value='144' max='200' style='width:300px; height:20px; vertical-align: middle;'></progress>\n",
              "      [144/200 32:46 < 43:41, 0.02 it/s, Epoch 1.43/2]\n",
              "    </div>\n",
              "    <table border=\"1\" class=\"dataframe\">\n",
              "  <thead>\n",
              " <tr style=\"text-align: left;\">\n",
              "      <th>Epoch</th>\n",
              "      <th>Training Loss</th>\n",
              "      <th>Validation Loss</th>\n",
              "    </tr>\n",
              "  </thead>\n",
              "  <tbody>\n",
              "  </tbody>\n",
              "</table><p>"
            ]
          },
          "metadata": {}
        }
      ],
      "source": [
        "from transformers import Trainer\n",
        "from transformers import EarlyStoppingCallback\n",
        "trainer = Trainer(\n",
        "    model=model,\n",
        "    args=training_args,\n",
        "    train_dataset=hf_train,\n",
        "    eval_dataset=hf_val,\n",
        "    compute_metrics=compute_metrics,\n",
        "    tokenizer=tokenizer\n",
        "    # callbacks=[EarlyStoppingCallback(early_stopping_patience=2)]\n",
        ")\n",
        "\n",
        "# Step 8: Train\n",
        "import time\n",
        "start = time.time()\n",
        "# trainer.train()\n",
        "trainer.train(resume_from_checkpoint=True)\n",
        "print(\"⏱ Finished in %.2f minutes\" % ((time.time() - start)/60))"
      ]
    },
    {
      "cell_type": "code",
      "execution_count": 36,
      "metadata": {
        "id": "2z5ITXTEb98e",
        "colab": {
          "base_uri": "https://localhost:8080/",
          "height": 283
        },
        "outputId": "ab96dcaf-5a00-4906-9e22-f1bbd98450c9"
      },
      "outputs": [
        {
          "data": {
            "text/html": [
              "\n",
              "    <div>\n",
              "      \n",
              "      <progress value='17' max='25' style='width:300px; height:20px; vertical-align: middle;'></progress>\n",
              "      [17/25 04:52 < 02:26, 0.05 it/s]\n",
              "    </div>\n",
              "    "
            ],
            "text/plain": [
              "<IPython.core.display.HTML object>"
            ]
          },
          "metadata": {},
          "output_type": "display_data"
        },
        {
          "output_type": "display_data",
          "data": {
            "text/plain": [
              "<IPython.core.display.HTML object>"
            ],
            "text/html": [
              "\n",
              "    <div>\n",
              "      \n",
              "      <progress value='25' max='25' style='width:300px; height:20px; vertical-align: middle;'></progress>\n",
              "      [25/25 07:21]\n",
              "    </div>\n",
              "    "
            ]
          },
          "metadata": {}
        },
        {
          "output_type": "execute_result",
          "data": {
            "text/plain": [
              "{'eval_loss': 0.54628586769104,\n",
              " 'eval_accuracy': 0.835,\n",
              " 'eval_f1': 0.8235294117647058,\n",
              " 'eval_precision': 0.8850574712643678,\n",
              " 'eval_recall': 0.77,\n",
              " 'eval_true_negative': 90,\n",
              " 'eval_false_positive': 10,\n",
              " 'eval_false_negative': 23,\n",
              " 'eval_true_positive': 77,\n",
              " 'eval_runtime': 459.5459,\n",
              " 'eval_samples_per_second': 0.435,\n",
              " 'eval_steps_per_second': 0.054,\n",
              " 'epoch': 2.0}"
            ]
          },
          "metadata": {},
          "execution_count": 36
        }
      ],
      "source": [
        "trainer.evaluate()"
      ]
    },
    {
      "cell_type": "code",
      "execution_count": 37,
      "metadata": {
        "id": "o4mqqHjWb98e"
      },
      "outputs": [],
      "source": [
        "# # for train metrices\n",
        "# from sklearn.metrics import classification_report\n",
        "\n",
        "# # Predict on training set\n",
        "# train_predictions = trainer.predict(hf_train)\n",
        "# train_preds = train_predictions.predictions.argmax(axis=1)\n",
        "# train_labels = train_predictions.label_ids\n",
        "\n",
        "# # Classification report\n",
        "# print(\"Train classification report:\\n\", classification_report(train_labels, train_preds, target_names=['Non-Cancer', 'Cancer']))\n"
      ]
    },
    {
      "cell_type": "code",
      "execution_count": 38,
      "metadata": {
        "id": "_VNjs_w6b98f",
        "colab": {
          "base_uri": "https://localhost:8080/",
          "height": 17
        },
        "outputId": "ce8b34e2-45ff-4414-fe6a-45f3e1296864"
      },
      "outputs": [
        {
          "output_type": "display_data",
          "data": {
            "text/plain": [
              "<IPython.core.display.HTML object>"
            ],
            "text/html": []
          },
          "metadata": {}
        }
      ],
      "source": [
        "import torch\n",
        "import numpy as np\n",
        "import pandas as pd\n",
        "\n",
        "predictions = trainer.predict(hf_val)\n",
        "\n",
        "# Use sigmoid instead of softmax\n",
        "probs = torch.sigmoid(torch.tensor(predictions.predictions)).numpy()\n",
        "\n"
      ]
    },
    {
      "cell_type": "code",
      "source": [
        "\n",
        "label_map = {0: \"Non-Cancer\", 1: \"Cancer\"}\n",
        "\n",
        "top_k = 2\n",
        "predicted_labels = [\n",
        "    [label_map[j] for j in probs[i].argsort()[-top_k:][::-1]]\n",
        "    for i in range(len(probs))\n",
        "]\n",
        "\n"
      ],
      "metadata": {
        "id": "2w3vGKrNvjln"
      },
      "execution_count": 44,
      "outputs": []
    },
    {
      "cell_type": "code",
      "source": [
        "i = 0\n",
        "confidence_scores = {label_map[j]: round(probs[i][j], 2) for j in range(len(label_map))}\n",
        "\n",
        "output = {\n",
        "    \"predicted_labels\": predicted_labels[i],\n",
        "    \"confidence_scores\": confidence_scores\n",
        "}\n",
        "\n",
        "print(output)\n"
      ],
      "metadata": {
        "colab": {
          "base_uri": "https://localhost:8080/"
        },
        "id": "7fkpvQtxvqu-",
        "outputId": "d7aabab1-c044-4f43-a285-f318e104ef50"
      },
      "execution_count": 45,
      "outputs": [
        {
          "output_type": "stream",
          "name": "stdout",
          "text": [
            "{'predicted_labels': ['Cancer', 'Non-Cancer'], 'confidence_scores': {'Non-Cancer': np.float32(0.41), 'Cancer': np.float32(0.59)}}\n"
          ]
        }
      ]
    },
    {
      "cell_type": "code",
      "source": [
        "import torch\n",
        "from transformers import AutoTokenizer, AutoModelForSequenceClassification\n",
        "\n",
        "model_path = \"/content/drive/MyDrive/dataset_4\"\n",
        "tokenizer = AutoTokenizer.from_pretrained(model_path)\n",
        "model = AutoModelForSequenceClassification.from_pretrained(model_path)\n",
        "model.eval()\n",
        "\n",
        "label_map = {0: \"Non-Cancer\", 1: \"Cancer\"}\n",
        "\n",
        "def predict_cancer_labels(text):\n",
        "    inputs = tokenizer(text, return_tensors=\"pt\", truncation=True, padding=\"max_length\", max_length=512)\n",
        "    with torch.no_grad():\n",
        "        logits = model(**inputs).logits\n",
        "        probs = torch.nn.functional.softmax(logits, dim=1).squeeze().numpy()\n",
        "        pred = int(probs.argmax())\n",
        "        return {\n",
        "            \"predicted_labels\": [label_map[pred]],\n",
        "            \"confidence_scores\": {label_map[i]: round(float(p), 3) for i, p in enumerate(probs)}\n",
        "        }"
      ],
      "metadata": {
        "id": "JEt8S_DnddD2"
      },
      "execution_count": 41,
      "outputs": []
    },
    {
      "cell_type": "code",
      "source": [
        "def predict_on_dataframe(df, text_col=\"abstract\"):\n",
        "    results = []\n",
        "    for text in df[text_col]:\n",
        "        results.append(predict_cancer_labels(text))\n",
        "    return results\n"
      ],
      "metadata": {
        "id": "uuMJ1Nd1dh3-"
      },
      "execution_count": 42,
      "outputs": []
    }
  ],
  "metadata": {
    "colab": {
      "provenance": []
    },
    "kaggle": {
      "accelerator": "nvidiaTeslaT4",
      "dataSources": [
        {
          "datasetId": 7453437,
          "sourceId": 11861384,
          "sourceType": "datasetVersion"
        }
      ],
      "dockerImageVersionId": 31040,
      "isGpuEnabled": true,
      "isInternetEnabled": true,
      "language": "python",
      "sourceType": "notebook"
    },
    "kernelspec": {
      "display_name": "Python 3",
      "language": "python",
      "name": "python3"
    },
    "language_info": {
      "codemirror_mode": {
        "name": "ipython",
        "version": 3
      },
      "file_extension": ".py",
      "mimetype": "text/x-python",
      "name": "python",
      "nbconvert_exporter": "python",
      "pygments_lexer": "ipython3",
      "version": "3.11.11"
    },
    "widgets": {
      "application/vnd.jupyter.widget-state+json": {
        "55ac869a88a04e07af17dc4fd7ae8fa0": {
          "model_module": "@jupyter-widgets/controls",
          "model_name": "HBoxModel",
          "model_module_version": "1.5.0",
          "state": {
            "_dom_classes": [],
            "_model_module": "@jupyter-widgets/controls",
            "_model_module_version": "1.5.0",
            "_model_name": "HBoxModel",
            "_view_count": null,
            "_view_module": "@jupyter-widgets/controls",
            "_view_module_version": "1.5.0",
            "_view_name": "HBoxView",
            "box_style": "",
            "children": [
              "IPY_MODEL_680c37048c124950a0b8dfec2b905966",
              "IPY_MODEL_fc1465ab105b4e96834e36f03d8ac6ac",
              "IPY_MODEL_e726641c216542b3af172375029919bc"
            ],
            "layout": "IPY_MODEL_00a7aa0b5b1c4b99bb90f32315d482b9"
          }
        },
        "680c37048c124950a0b8dfec2b905966": {
          "model_module": "@jupyter-widgets/controls",
          "model_name": "HTMLModel",
          "model_module_version": "1.5.0",
          "state": {
            "_dom_classes": [],
            "_model_module": "@jupyter-widgets/controls",
            "_model_module_version": "1.5.0",
            "_model_name": "HTMLModel",
            "_view_count": null,
            "_view_module": "@jupyter-widgets/controls",
            "_view_module_version": "1.5.0",
            "_view_name": "HTMLView",
            "description": "",
            "description_tooltip": null,
            "layout": "IPY_MODEL_de25a96c2226411986daa242acb3020b",
            "placeholder": "​",
            "style": "IPY_MODEL_f786334af90845ba93e365f90883a100",
            "value": "Map: 100%"
          }
        },
        "fc1465ab105b4e96834e36f03d8ac6ac": {
          "model_module": "@jupyter-widgets/controls",
          "model_name": "FloatProgressModel",
          "model_module_version": "1.5.0",
          "state": {
            "_dom_classes": [],
            "_model_module": "@jupyter-widgets/controls",
            "_model_module_version": "1.5.0",
            "_model_name": "FloatProgressModel",
            "_view_count": null,
            "_view_module": "@jupyter-widgets/controls",
            "_view_module_version": "1.5.0",
            "_view_name": "ProgressView",
            "bar_style": "success",
            "description": "",
            "description_tooltip": null,
            "layout": "IPY_MODEL_420d6333f040471c822df91f2e905df5",
            "max": 800,
            "min": 0,
            "orientation": "horizontal",
            "style": "IPY_MODEL_fd9c0f479c3a4ff3bf448b515179df73",
            "value": 800
          }
        },
        "e726641c216542b3af172375029919bc": {
          "model_module": "@jupyter-widgets/controls",
          "model_name": "HTMLModel",
          "model_module_version": "1.5.0",
          "state": {
            "_dom_classes": [],
            "_model_module": "@jupyter-widgets/controls",
            "_model_module_version": "1.5.0",
            "_model_name": "HTMLModel",
            "_view_count": null,
            "_view_module": "@jupyter-widgets/controls",
            "_view_module_version": "1.5.0",
            "_view_name": "HTMLView",
            "description": "",
            "description_tooltip": null,
            "layout": "IPY_MODEL_e3ca8318f275445abe3ab652442113c3",
            "placeholder": "​",
            "style": "IPY_MODEL_2f0dbe1a3d5945f5b8115e39c5e5b184",
            "value": " 800/800 [00:01&lt;00:00, 677.48 examples/s]"
          }
        },
        "00a7aa0b5b1c4b99bb90f32315d482b9": {
          "model_module": "@jupyter-widgets/base",
          "model_name": "LayoutModel",
          "model_module_version": "1.2.0",
          "state": {
            "_model_module": "@jupyter-widgets/base",
            "_model_module_version": "1.2.0",
            "_model_name": "LayoutModel",
            "_view_count": null,
            "_view_module": "@jupyter-widgets/base",
            "_view_module_version": "1.2.0",
            "_view_name": "LayoutView",
            "align_content": null,
            "align_items": null,
            "align_self": null,
            "border": null,
            "bottom": null,
            "display": null,
            "flex": null,
            "flex_flow": null,
            "grid_area": null,
            "grid_auto_columns": null,
            "grid_auto_flow": null,
            "grid_auto_rows": null,
            "grid_column": null,
            "grid_gap": null,
            "grid_row": null,
            "grid_template_areas": null,
            "grid_template_columns": null,
            "grid_template_rows": null,
            "height": null,
            "justify_content": null,
            "justify_items": null,
            "left": null,
            "margin": null,
            "max_height": null,
            "max_width": null,
            "min_height": null,
            "min_width": null,
            "object_fit": null,
            "object_position": null,
            "order": null,
            "overflow": null,
            "overflow_x": null,
            "overflow_y": null,
            "padding": null,
            "right": null,
            "top": null,
            "visibility": null,
            "width": null
          }
        },
        "de25a96c2226411986daa242acb3020b": {
          "model_module": "@jupyter-widgets/base",
          "model_name": "LayoutModel",
          "model_module_version": "1.2.0",
          "state": {
            "_model_module": "@jupyter-widgets/base",
            "_model_module_version": "1.2.0",
            "_model_name": "LayoutModel",
            "_view_count": null,
            "_view_module": "@jupyter-widgets/base",
            "_view_module_version": "1.2.0",
            "_view_name": "LayoutView",
            "align_content": null,
            "align_items": null,
            "align_self": null,
            "border": null,
            "bottom": null,
            "display": null,
            "flex": null,
            "flex_flow": null,
            "grid_area": null,
            "grid_auto_columns": null,
            "grid_auto_flow": null,
            "grid_auto_rows": null,
            "grid_column": null,
            "grid_gap": null,
            "grid_row": null,
            "grid_template_areas": null,
            "grid_template_columns": null,
            "grid_template_rows": null,
            "height": null,
            "justify_content": null,
            "justify_items": null,
            "left": null,
            "margin": null,
            "max_height": null,
            "max_width": null,
            "min_height": null,
            "min_width": null,
            "object_fit": null,
            "object_position": null,
            "order": null,
            "overflow": null,
            "overflow_x": null,
            "overflow_y": null,
            "padding": null,
            "right": null,
            "top": null,
            "visibility": null,
            "width": null
          }
        },
        "f786334af90845ba93e365f90883a100": {
          "model_module": "@jupyter-widgets/controls",
          "model_name": "DescriptionStyleModel",
          "model_module_version": "1.5.0",
          "state": {
            "_model_module": "@jupyter-widgets/controls",
            "_model_module_version": "1.5.0",
            "_model_name": "DescriptionStyleModel",
            "_view_count": null,
            "_view_module": "@jupyter-widgets/base",
            "_view_module_version": "1.2.0",
            "_view_name": "StyleView",
            "description_width": ""
          }
        },
        "420d6333f040471c822df91f2e905df5": {
          "model_module": "@jupyter-widgets/base",
          "model_name": "LayoutModel",
          "model_module_version": "1.2.0",
          "state": {
            "_model_module": "@jupyter-widgets/base",
            "_model_module_version": "1.2.0",
            "_model_name": "LayoutModel",
            "_view_count": null,
            "_view_module": "@jupyter-widgets/base",
            "_view_module_version": "1.2.0",
            "_view_name": "LayoutView",
            "align_content": null,
            "align_items": null,
            "align_self": null,
            "border": null,
            "bottom": null,
            "display": null,
            "flex": null,
            "flex_flow": null,
            "grid_area": null,
            "grid_auto_columns": null,
            "grid_auto_flow": null,
            "grid_auto_rows": null,
            "grid_column": null,
            "grid_gap": null,
            "grid_row": null,
            "grid_template_areas": null,
            "grid_template_columns": null,
            "grid_template_rows": null,
            "height": null,
            "justify_content": null,
            "justify_items": null,
            "left": null,
            "margin": null,
            "max_height": null,
            "max_width": null,
            "min_height": null,
            "min_width": null,
            "object_fit": null,
            "object_position": null,
            "order": null,
            "overflow": null,
            "overflow_x": null,
            "overflow_y": null,
            "padding": null,
            "right": null,
            "top": null,
            "visibility": null,
            "width": null
          }
        },
        "fd9c0f479c3a4ff3bf448b515179df73": {
          "model_module": "@jupyter-widgets/controls",
          "model_name": "ProgressStyleModel",
          "model_module_version": "1.5.0",
          "state": {
            "_model_module": "@jupyter-widgets/controls",
            "_model_module_version": "1.5.0",
            "_model_name": "ProgressStyleModel",
            "_view_count": null,
            "_view_module": "@jupyter-widgets/base",
            "_view_module_version": "1.2.0",
            "_view_name": "StyleView",
            "bar_color": null,
            "description_width": ""
          }
        },
        "e3ca8318f275445abe3ab652442113c3": {
          "model_module": "@jupyter-widgets/base",
          "model_name": "LayoutModel",
          "model_module_version": "1.2.0",
          "state": {
            "_model_module": "@jupyter-widgets/base",
            "_model_module_version": "1.2.0",
            "_model_name": "LayoutModel",
            "_view_count": null,
            "_view_module": "@jupyter-widgets/base",
            "_view_module_version": "1.2.0",
            "_view_name": "LayoutView",
            "align_content": null,
            "align_items": null,
            "align_self": null,
            "border": null,
            "bottom": null,
            "display": null,
            "flex": null,
            "flex_flow": null,
            "grid_area": null,
            "grid_auto_columns": null,
            "grid_auto_flow": null,
            "grid_auto_rows": null,
            "grid_column": null,
            "grid_gap": null,
            "grid_row": null,
            "grid_template_areas": null,
            "grid_template_columns": null,
            "grid_template_rows": null,
            "height": null,
            "justify_content": null,
            "justify_items": null,
            "left": null,
            "margin": null,
            "max_height": null,
            "max_width": null,
            "min_height": null,
            "min_width": null,
            "object_fit": null,
            "object_position": null,
            "order": null,
            "overflow": null,
            "overflow_x": null,
            "overflow_y": null,
            "padding": null,
            "right": null,
            "top": null,
            "visibility": null,
            "width": null
          }
        },
        "2f0dbe1a3d5945f5b8115e39c5e5b184": {
          "model_module": "@jupyter-widgets/controls",
          "model_name": "DescriptionStyleModel",
          "model_module_version": "1.5.0",
          "state": {
            "_model_module": "@jupyter-widgets/controls",
            "_model_module_version": "1.5.0",
            "_model_name": "DescriptionStyleModel",
            "_view_count": null,
            "_view_module": "@jupyter-widgets/base",
            "_view_module_version": "1.2.0",
            "_view_name": "StyleView",
            "description_width": ""
          }
        },
        "d474f53fb0074409b2df5a06ed4dbaa2": {
          "model_module": "@jupyter-widgets/controls",
          "model_name": "HBoxModel",
          "model_module_version": "1.5.0",
          "state": {
            "_dom_classes": [],
            "_model_module": "@jupyter-widgets/controls",
            "_model_module_version": "1.5.0",
            "_model_name": "HBoxModel",
            "_view_count": null,
            "_view_module": "@jupyter-widgets/controls",
            "_view_module_version": "1.5.0",
            "_view_name": "HBoxView",
            "box_style": "",
            "children": [
              "IPY_MODEL_02b42cf7a7b24d1a9f7f7c4a9cbc7844",
              "IPY_MODEL_18c13a347f68483b93f60bbdc55e073b",
              "IPY_MODEL_e18a48ab4966468998bd359447e06ac8"
            ],
            "layout": "IPY_MODEL_62fb4db8e930433b93ff20d99950defb"
          }
        },
        "02b42cf7a7b24d1a9f7f7c4a9cbc7844": {
          "model_module": "@jupyter-widgets/controls",
          "model_name": "HTMLModel",
          "model_module_version": "1.5.0",
          "state": {
            "_dom_classes": [],
            "_model_module": "@jupyter-widgets/controls",
            "_model_module_version": "1.5.0",
            "_model_name": "HTMLModel",
            "_view_count": null,
            "_view_module": "@jupyter-widgets/controls",
            "_view_module_version": "1.5.0",
            "_view_name": "HTMLView",
            "description": "",
            "description_tooltip": null,
            "layout": "IPY_MODEL_7411e978991741adaf9125e3f94973b9",
            "placeholder": "​",
            "style": "IPY_MODEL_6c30b3c458c740ea8415797f89776deb",
            "value": "Map: 100%"
          }
        },
        "18c13a347f68483b93f60bbdc55e073b": {
          "model_module": "@jupyter-widgets/controls",
          "model_name": "FloatProgressModel",
          "model_module_version": "1.5.0",
          "state": {
            "_dom_classes": [],
            "_model_module": "@jupyter-widgets/controls",
            "_model_module_version": "1.5.0",
            "_model_name": "FloatProgressModel",
            "_view_count": null,
            "_view_module": "@jupyter-widgets/controls",
            "_view_module_version": "1.5.0",
            "_view_name": "ProgressView",
            "bar_style": "success",
            "description": "",
            "description_tooltip": null,
            "layout": "IPY_MODEL_38f4492e087d481caa706d76a8c732ed",
            "max": 200,
            "min": 0,
            "orientation": "horizontal",
            "style": "IPY_MODEL_c039aa9f11e64195ae83ecffa4f0cb0a",
            "value": 200
          }
        },
        "e18a48ab4966468998bd359447e06ac8": {
          "model_module": "@jupyter-widgets/controls",
          "model_name": "HTMLModel",
          "model_module_version": "1.5.0",
          "state": {
            "_dom_classes": [],
            "_model_module": "@jupyter-widgets/controls",
            "_model_module_version": "1.5.0",
            "_model_name": "HTMLModel",
            "_view_count": null,
            "_view_module": "@jupyter-widgets/controls",
            "_view_module_version": "1.5.0",
            "_view_name": "HTMLView",
            "description": "",
            "description_tooltip": null,
            "layout": "IPY_MODEL_5da00198b1444b7fb266ff57285c6342",
            "placeholder": "​",
            "style": "IPY_MODEL_85528abae98345079fe702e65bec64b4",
            "value": " 200/200 [00:00&lt;00:00, 638.37 examples/s]"
          }
        },
        "62fb4db8e930433b93ff20d99950defb": {
          "model_module": "@jupyter-widgets/base",
          "model_name": "LayoutModel",
          "model_module_version": "1.2.0",
          "state": {
            "_model_module": "@jupyter-widgets/base",
            "_model_module_version": "1.2.0",
            "_model_name": "LayoutModel",
            "_view_count": null,
            "_view_module": "@jupyter-widgets/base",
            "_view_module_version": "1.2.0",
            "_view_name": "LayoutView",
            "align_content": null,
            "align_items": null,
            "align_self": null,
            "border": null,
            "bottom": null,
            "display": null,
            "flex": null,
            "flex_flow": null,
            "grid_area": null,
            "grid_auto_columns": null,
            "grid_auto_flow": null,
            "grid_auto_rows": null,
            "grid_column": null,
            "grid_gap": null,
            "grid_row": null,
            "grid_template_areas": null,
            "grid_template_columns": null,
            "grid_template_rows": null,
            "height": null,
            "justify_content": null,
            "justify_items": null,
            "left": null,
            "margin": null,
            "max_height": null,
            "max_width": null,
            "min_height": null,
            "min_width": null,
            "object_fit": null,
            "object_position": null,
            "order": null,
            "overflow": null,
            "overflow_x": null,
            "overflow_y": null,
            "padding": null,
            "right": null,
            "top": null,
            "visibility": null,
            "width": null
          }
        },
        "7411e978991741adaf9125e3f94973b9": {
          "model_module": "@jupyter-widgets/base",
          "model_name": "LayoutModel",
          "model_module_version": "1.2.0",
          "state": {
            "_model_module": "@jupyter-widgets/base",
            "_model_module_version": "1.2.0",
            "_model_name": "LayoutModel",
            "_view_count": null,
            "_view_module": "@jupyter-widgets/base",
            "_view_module_version": "1.2.0",
            "_view_name": "LayoutView",
            "align_content": null,
            "align_items": null,
            "align_self": null,
            "border": null,
            "bottom": null,
            "display": null,
            "flex": null,
            "flex_flow": null,
            "grid_area": null,
            "grid_auto_columns": null,
            "grid_auto_flow": null,
            "grid_auto_rows": null,
            "grid_column": null,
            "grid_gap": null,
            "grid_row": null,
            "grid_template_areas": null,
            "grid_template_columns": null,
            "grid_template_rows": null,
            "height": null,
            "justify_content": null,
            "justify_items": null,
            "left": null,
            "margin": null,
            "max_height": null,
            "max_width": null,
            "min_height": null,
            "min_width": null,
            "object_fit": null,
            "object_position": null,
            "order": null,
            "overflow": null,
            "overflow_x": null,
            "overflow_y": null,
            "padding": null,
            "right": null,
            "top": null,
            "visibility": null,
            "width": null
          }
        },
        "6c30b3c458c740ea8415797f89776deb": {
          "model_module": "@jupyter-widgets/controls",
          "model_name": "DescriptionStyleModel",
          "model_module_version": "1.5.0",
          "state": {
            "_model_module": "@jupyter-widgets/controls",
            "_model_module_version": "1.5.0",
            "_model_name": "DescriptionStyleModel",
            "_view_count": null,
            "_view_module": "@jupyter-widgets/base",
            "_view_module_version": "1.2.0",
            "_view_name": "StyleView",
            "description_width": ""
          }
        },
        "38f4492e087d481caa706d76a8c732ed": {
          "model_module": "@jupyter-widgets/base",
          "model_name": "LayoutModel",
          "model_module_version": "1.2.0",
          "state": {
            "_model_module": "@jupyter-widgets/base",
            "_model_module_version": "1.2.0",
            "_model_name": "LayoutModel",
            "_view_count": null,
            "_view_module": "@jupyter-widgets/base",
            "_view_module_version": "1.2.0",
            "_view_name": "LayoutView",
            "align_content": null,
            "align_items": null,
            "align_self": null,
            "border": null,
            "bottom": null,
            "display": null,
            "flex": null,
            "flex_flow": null,
            "grid_area": null,
            "grid_auto_columns": null,
            "grid_auto_flow": null,
            "grid_auto_rows": null,
            "grid_column": null,
            "grid_gap": null,
            "grid_row": null,
            "grid_template_areas": null,
            "grid_template_columns": null,
            "grid_template_rows": null,
            "height": null,
            "justify_content": null,
            "justify_items": null,
            "left": null,
            "margin": null,
            "max_height": null,
            "max_width": null,
            "min_height": null,
            "min_width": null,
            "object_fit": null,
            "object_position": null,
            "order": null,
            "overflow": null,
            "overflow_x": null,
            "overflow_y": null,
            "padding": null,
            "right": null,
            "top": null,
            "visibility": null,
            "width": null
          }
        },
        "c039aa9f11e64195ae83ecffa4f0cb0a": {
          "model_module": "@jupyter-widgets/controls",
          "model_name": "ProgressStyleModel",
          "model_module_version": "1.5.0",
          "state": {
            "_model_module": "@jupyter-widgets/controls",
            "_model_module_version": "1.5.0",
            "_model_name": "ProgressStyleModel",
            "_view_count": null,
            "_view_module": "@jupyter-widgets/base",
            "_view_module_version": "1.2.0",
            "_view_name": "StyleView",
            "bar_color": null,
            "description_width": ""
          }
        },
        "5da00198b1444b7fb266ff57285c6342": {
          "model_module": "@jupyter-widgets/base",
          "model_name": "LayoutModel",
          "model_module_version": "1.2.0",
          "state": {
            "_model_module": "@jupyter-widgets/base",
            "_model_module_version": "1.2.0",
            "_model_name": "LayoutModel",
            "_view_count": null,
            "_view_module": "@jupyter-widgets/base",
            "_view_module_version": "1.2.0",
            "_view_name": "LayoutView",
            "align_content": null,
            "align_items": null,
            "align_self": null,
            "border": null,
            "bottom": null,
            "display": null,
            "flex": null,
            "flex_flow": null,
            "grid_area": null,
            "grid_auto_columns": null,
            "grid_auto_flow": null,
            "grid_auto_rows": null,
            "grid_column": null,
            "grid_gap": null,
            "grid_row": null,
            "grid_template_areas": null,
            "grid_template_columns": null,
            "grid_template_rows": null,
            "height": null,
            "justify_content": null,
            "justify_items": null,
            "left": null,
            "margin": null,
            "max_height": null,
            "max_width": null,
            "min_height": null,
            "min_width": null,
            "object_fit": null,
            "object_position": null,
            "order": null,
            "overflow": null,
            "overflow_x": null,
            "overflow_y": null,
            "padding": null,
            "right": null,
            "top": null,
            "visibility": null,
            "width": null
          }
        },
        "85528abae98345079fe702e65bec64b4": {
          "model_module": "@jupyter-widgets/controls",
          "model_name": "DescriptionStyleModel",
          "model_module_version": "1.5.0",
          "state": {
            "_model_module": "@jupyter-widgets/controls",
            "_model_module_version": "1.5.0",
            "_model_name": "DescriptionStyleModel",
            "_view_count": null,
            "_view_module": "@jupyter-widgets/base",
            "_view_module_version": "1.2.0",
            "_view_name": "StyleView",
            "description_width": ""
          }
        }
      }
    }
  },
  "nbformat": 4,
  "nbformat_minor": 0
}